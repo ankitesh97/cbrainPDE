{
 "cells": [
  {
   "cell_type": "code",
   "execution_count": 1,
   "metadata": {},
   "outputs": [],
   "source": [
    "from backend.aTEAM.nn.functional import utils as ut\n",
    "import numpy as np"
   ]
  },
  {
   "cell_type": "code",
   "execution_count": 9,
   "metadata": {},
   "outputs": [],
   "source": [
    "def getKernel(order,dim=3,scheme='central'):\n",
    "    '''\n",
    "    input: order of the derivative and the dimension (It will round it to next odd)\n",
    "    returns a kernel for a given order\n",
    "    '''\n",
    "    #minium dim to be 3 it will return an error if the order and the dimension not matches.\n",
    "    if dim<=order:\n",
    "        raise(\"The dim should be greater than the order\")\n",
    "    \n",
    "    if dim%2==0:\n",
    "        dim += 1\n",
    "        \n",
    "    kernel = np.zeros(dim)\n",
    "    \n",
    "    B = np.zeros(order+1)\n",
    "    B[-1] = 1\n",
    "    A = np.zeros((order+1,order+1))\n",
    "    #first row by 1\n",
    "    A[0] = np.ones(order+1)\n",
    "\n",
    "    numerators = np.zeros(order+1)\n",
    "    seq = np.arange(np.floor((order+1)/2))+1\n",
    "    numerators[:int(np.floor((order+1)/2))] = seq[::-1]\n",
    "    numerators[int(np.floor(order/2)+1):] = seq\n",
    "    #let's fill the value of this matrix row wise \n",
    "    for i in range(1,order+1,1):\n",
    "        fact = np.math.factorial(i) \n",
    "        row = []\n",
    "        prefix = 1\n",
    "        for j in range(order+1):\n",
    "            if j>np.floor(order/2):\n",
    "                prefix = (-1)**i\n",
    "                \n",
    "            row.append(prefix*(numerators[j]**i)/fact)\n",
    "        A[i] = row\n",
    "    soln = np.linalg.inv(A).dot(B)\n",
    "    \n",
    "    soln = soln[::-1]\n",
    "    len_sol = len(soln)\n",
    "    if len_sol%2==0:\n",
    "        a,b = np.split(soln,2)\n",
    "        soln = np.zeros(len_sol+1)\n",
    "        soln[:int(len_sol/2)] = a\n",
    "        soln[int(len_sol/2)+1:] = b\n",
    "        len_sol += 1\n",
    "    kernel = np.pad(soln,int((len_sol-dim)/2))\n",
    "    return kernel"
   ]
  },
  {
   "cell_type": "code",
   "execution_count": 12,
   "metadata": {},
   "outputs": [
    {
     "data": {
      "text/plain": [
       "array([-0.5,  0. ,  0.5])"
      ]
     },
     "execution_count": 12,
     "metadata": {},
     "output_type": "execute_result"
    }
   ],
   "source": [
    "getKernel(order = 1,dim=3)"
   ]
  },
  {
   "cell_type": "code",
   "execution_count": null,
   "metadata": {},
   "outputs": [],
   "source": []
  }
 ],
 "metadata": {
  "kernelspec": {
   "display_name": "PDE-Net",
   "language": "python",
   "name": "pde-net"
  },
  "language_info": {
   "codemirror_mode": {
    "name": "ipython",
    "version": 3
   },
   "file_extension": ".py",
   "mimetype": "text/x-python",
   "name": "python",
   "nbconvert_exporter": "python",
   "pygments_lexer": "ipython3",
   "version": "3.6.10"
  }
 },
 "nbformat": 4,
 "nbformat_minor": 4
}
