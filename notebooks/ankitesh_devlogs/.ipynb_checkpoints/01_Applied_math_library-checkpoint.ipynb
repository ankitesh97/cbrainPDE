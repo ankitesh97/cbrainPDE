{
 "cells": [
  {
   "cell_type": "code",
   "execution_count": 1,
   "metadata": {},
   "outputs": [],
   "source": [
    "import numpy as np\n",
    "import matplotlib.pyplot as plt\n",
    "import torch\n",
    "from utils import *"
   ]
  },
  {
   "cell_type": "markdown",
   "metadata": {},
   "source": [
    "This notebook contains the applied math library utilities"
   ]
  },
  {
   "cell_type": "markdown",
   "metadata": {},
   "source": [
    "# Defining Functions"
   ]
  },
  {
   "cell_type": "markdown",
   "metadata": {},
   "source": [
    "## Kernel"
   ]
  },
  {
   "cell_type": "code",
   "execution_count": 1,
   "metadata": {},
   "outputs": [],
   "source": [
    "def getKernel(diff_order,acc_order=2,dim=None,scheme='central'):\n",
    "    '''\n",
    "        Returns Kernel vector which can be convolved to find the derivative.\n",
    "        Inputs:\n",
    "            diff_order: The differential order required\n",
    "            acc_order: The accuracy order of the kernel (minimum value 2)\n",
    "            dim: The dimension of the kernel make sure dim > diff_order+acc_order-1\n",
    "            scheme: Finite differnece scheme (default: central)\n",
    "            \n",
    "        Returns:\n",
    "            A vector of size dim(if not None) else diff_order+acc_order-1\n",
    "            Note: the extra bits(dim - (diff_order+acc_order-1)) will be padded with 0\n",
    "    '''\n",
    "    \n",
    "    def central(diff_order,acc_order,dim):\n",
    "        '''\n",
    "        output index order  .. xi-2 xi-1 xi xi+1 xi+2 ..\n",
    "        '''\n",
    "        #minium dim to be 3 it will return an error if the order and the dimension not matches.\n",
    "        n_eles = diff_order+acc_order-1\n",
    "        if dim==None:\n",
    "            dim = n_eles\n",
    "\n",
    "        if dim<n_eles:\n",
    "            raise(\"The dim should be >- than the diff+acc-1\")\n",
    "\n",
    "\n",
    "        kernel = np.zeros(dim)\n",
    "\n",
    "        B = np.zeros(n_eles)\n",
    "        B[diff_order] = 1\n",
    "        A = np.zeros((n_eles,n_eles))\n",
    "        #first row by 1\n",
    "        A[0] = np.ones(n_eles)\n",
    "\n",
    "        numerators = np.zeros(n_eles)\n",
    "        seq = np.arange(np.floor(n_eles/2))+1\n",
    "        numerators[:int(np.floor(n_eles/2))] = seq[::-1]\n",
    "        numerators[int(np.floor((n_eles-1)/2)+1):] = seq\n",
    "        #let's fill the value of this matrix row wise \n",
    "        for i in range(1,n_eles,1):\n",
    "            fact = np.math.factorial(i) \n",
    "            row = []\n",
    "            prefix = 1\n",
    "            for j in range(n_eles):\n",
    "                if j>np.floor((n_eles-1)/2):\n",
    "                    prefix = (-1)**i\n",
    "\n",
    "                row.append(prefix*(numerators[j]**i)/fact)\n",
    "            A[i] = row\n",
    "        soln = np.linalg.inv(A).dot(B)\n",
    "\n",
    "        soln = soln[::-1]\n",
    "        len_sol = len(soln)\n",
    "        if len_sol%2==0:\n",
    "            a,b = np.split(soln,2)\n",
    "            soln = np.zeros(len_sol+1)\n",
    "            soln[:int(len_sol/2)] = a\n",
    "            soln[int(len_sol/2)+1:] = b\n",
    "            len_sol += 1\n",
    "\n",
    "        kernel = np.pad(soln,int((dim-len_sol)/2))\n",
    "        return kernel  \n",
    "    \n",
    "    \n",
    "    def right(diff_order,acc_order,dim):\n",
    "        '''\n",
    "        output index order  xi xi+1 xi+2 .. ..\n",
    "        '''\n",
    "        n_eles = diff_order+acc_order\n",
    "        B = np.zeros(n_eles)\n",
    "        B[diff_order] = 1\n",
    "        A = np.zeros((n_eles,n_eles))\n",
    "\n",
    "        first_col = np.zeros(n_eles)\n",
    "        first_col[0] = 1\n",
    "        A[:,0] = first_col\n",
    "        A[0] = np.ones(n_eles)\n",
    "\n",
    "        for i in range(1,n_eles,1):\n",
    "            for j in range(1,n_eles):\n",
    "                A[i][j] = (j**i)/np.math.factorial(i) \n",
    "\n",
    "        kernel = np.linalg.inv(A).dot(B)\n",
    "        len_ker = len(kernel)\n",
    "        \n",
    "        return kernel\n",
    "    \n",
    "    def left(diff_order,acc_order,dim):\n",
    "        '''\n",
    "        output index order  xi-2 xi-i xi .. ..\n",
    "        '''\n",
    "        n_eles = diff_order+acc_order\n",
    "        B = np.zeros(n_eles)\n",
    "        B[diff_order] = 1\n",
    "\n",
    "        A = np.zeros((n_eles,n_eles))\n",
    "        A[0] = np.ones(n_eles)        \n",
    "        first_col = np.zeros(n_eles)\n",
    "        first_col[0] = 1\n",
    "        A[:,0] = first_col\n",
    "\n",
    "\n",
    "        for i in range(1,n_eles,1):\n",
    "            for j in range(1,n_eles):\n",
    "                A[i][j] = ((-j)**i)/np.math.factorial(i) \n",
    "\n",
    "        kernel = np.linalg.inv(A).dot(B)\n",
    "        return kernel[::-1]\n",
    "    \n",
    "    if scheme=='central':\n",
    "        return central(diff_order,acc_order,dim)\n",
    "    elif scheme=='left':\n",
    "        return left(diff_order,acc_order,dim)\n",
    "    elif scheme=='right':\n",
    "        return right(diff_order,acc_order,dim)\n",
    "        \n",
    "        "
   ]
  },
  {
   "cell_type": "code",
   "execution_count": 250,
   "metadata": {},
   "outputs": [
    {
     "data": {
      "text/plain": [
       "array([ 0.08333333, -0.66666667,  0.        ,  0.66666667, -0.08333333])"
      ]
     },
     "execution_count": 250,
     "metadata": {},
     "output_type": "execute_result"
    }
   ],
   "source": [
    "getKernel(diff_order = 1,acc_order=4,scheme='central')"
   ]
  },
  {
   "cell_type": "code",
   "execution_count": 252,
   "metadata": {},
   "outputs": [
    {
     "data": {
      "text/plain": [
       "array([ 0.25      , -1.33333333,  3.        , -4.        ,  2.08333333])"
      ]
     },
     "execution_count": 252,
     "metadata": {},
     "output_type": "execute_result"
    }
   ],
   "source": [
    "getKernel(diff_order = 1,acc_order=4,scheme='left')"
   ]
  },
  {
   "cell_type": "code",
   "execution_count": 296,
   "metadata": {},
   "outputs": [
    {
     "data": {
      "text/plain": [
       "array([-2.08333333,  4.        , -3.        ,  1.33333333, -0.25      ])"
      ]
     },
     "execution_count": 296,
     "metadata": {},
     "output_type": "execute_result"
    }
   ],
   "source": [
    "getKernel(diff_order = 1,acc_order=4,scheme='right')"
   ]
  },
  {
   "cell_type": "code",
   "execution_count": 396,
   "metadata": {},
   "outputs": [
    {
     "data": {
      "text/plain": [
       "array([-0.5,  1. ,  0. , -1. ,  0.5])"
      ]
     },
     "execution_count": 396,
     "metadata": {},
     "output_type": "execute_result"
    }
   ],
   "source": [
    "getKernel(diff_order = 3,acc_order=2,scheme='central')"
   ]
  },
  {
   "cell_type": "markdown",
   "metadata": {},
   "source": [
    "## Padding"
   ]
  },
  {
   "cell_type": "code",
   "execution_count": 2,
   "metadata": {},
   "outputs": [],
   "source": [
    "## Not to be used\n",
    "def padInputNaive(X,diff_order,acc_order):\n",
    "    n_eles = diff_order+acc_order-1\n",
    "    n_pad = int(np.floor(n_eles/2))\n",
    "    #pad the before elements\n",
    "    pre_values = []\n",
    "    x0 = X[0]\n",
    "    x1 = X[1]\n",
    "    x2 = X[2]\n",
    "    for i in range(n_pad):\n",
    "        x_prev = x2-3*x1+3*x0\n",
    "        pre_values.append(x_prev)\n",
    "        x2 = x1\n",
    "        x1 = x0\n",
    "        x0 = x_prev\n",
    "    pre_values = pre_values[::-1]\n",
    "    \n",
    "    post_values = []\n",
    "    xn = X[-1]\n",
    "    xn_1 = X[-2]\n",
    "    xn_2 = X[-3]\n",
    "    for i in range(n_pad):\n",
    "        x_post = xn_2 - 3*xn_1+3*xn\n",
    "        post_values.append(x_post)\n",
    "        xn_2 = xn_1\n",
    "        xn_1 = xn\n",
    "        xn = x_post\n",
    "    \n",
    "    X_final = np.concatenate((pre_values,X,post_values))\n",
    "    #pad the after elements \n",
    "    return X_final"
   ]
  },
  {
   "cell_type": "code",
   "execution_count": 4,
   "metadata": {},
   "outputs": [],
   "source": [
    "def padInput(X,diff_order,acc_order=2,dim=None):\n",
    "    '''\n",
    "        pads the required amount in the start and the end by equation the central scheme to right/left scheme\n",
    "        Inputs:\n",
    "            X: A vector to be padded        \n",
    "    '''\n",
    "    if dim is None:\n",
    "        dim = diff_order+acc_order-1\n",
    "    def padStart(X,diff_order,acc_order):\n",
    "        central_kernel = getKernel(diff_order,acc_order,scheme='central')\n",
    "        right_kernel = getKernel(diff_order,acc_order,scheme='right')\n",
    "        n_c = len(central_kernel)\n",
    "        n_r = len(right_kernel)\n",
    "        n_eles = diff_order+acc_order-1 #central kernel\n",
    "        n_pad = int(np.floor(n_eles/2))\n",
    "\n",
    "        index = int(np.floor(n_c/2))-1\n",
    "        for i in range(n_pad):\n",
    "            right_conv = np.correlate(X[index:index+n_r],right_kernel)\n",
    "            central_conv = np.correlate(X[0:n_c-1],central_kernel[1:])\n",
    "            x_prev = (right_conv-central_conv)*1.0/central_kernel[0]\n",
    "            X = np.concatenate((x_prev,X))\n",
    "        return X\n",
    "\n",
    "    def padEnd(X,diff_order,acc_order):\n",
    "        central_kernel = getKernel(diff_order,acc_order,scheme='central')\n",
    "        left_kernel = getKernel(diff_order,acc_order,scheme='left')\n",
    "        n_c = len(central_kernel)\n",
    "        n_l = len(left_kernel)\n",
    "        n_eles = diff_order+acc_order-1 #central kernel\n",
    "        n_pad = int(np.floor(n_eles/2))\n",
    "        index = len(X) - (int(np.floor(n_c/2))-1)\n",
    "        \n",
    "        for i in range(n_pad):\n",
    "            \n",
    "            left_conv = np.correlate(X[index-n_l:index],left_kernel)\n",
    "            central_conv = np.correlate(X[-(n_c-1):],central_kernel[:-1])\n",
    "            x_next = (left_conv-central_conv)*1.0/central_kernel[-1]\n",
    "            X = np.concatenate((X,x_next))\n",
    "            index += 1\n",
    "        return X\n",
    "    \n",
    "    X = padStart(X,diff_order,acc_order)\n",
    "    X = padEnd(X,diff_order,acc_order)\n",
    "    \n",
    "    actual_dim = diff_order+acc_order-1\n",
    "    if actual_dim%2 == 0:\n",
    "        actual_dim += 1\n",
    "    \n",
    "    X = np.pad(X,int((dim-actual_dim)/2))\n",
    "    return X"
   ]
  },
  {
   "cell_type": "code",
   "execution_count": 399,
   "metadata": {},
   "outputs": [],
   "source": [
    "X_temp = [1,2,3,4,5,6,7,8,9,10]"
   ]
  },
  {
   "cell_type": "code",
   "execution_count": 397,
   "metadata": {},
   "outputs": [
    {
     "data": {
      "text/plain": [
       "array([-0.,  1.,  2.,  3.,  4.,  5.,  6.,  7.,  8.,  9., 10., 11.])"
      ]
     },
     "execution_count": 397,
     "metadata": {},
     "output_type": "execute_result"
    }
   ],
   "source": [
    "np.round(padInput(X_temp,1,2))"
   ]
  },
  {
   "cell_type": "code",
   "execution_count": null,
   "metadata": {},
   "outputs": [],
   "source": []
  },
  {
   "cell_type": "markdown",
   "metadata": {},
   "source": [
    "## Testing"
   ]
  },
  {
   "cell_type": "markdown",
   "metadata": {},
   "source": [
    "Considering f(x) = sin(2x/L)"
   ]
  },
  {
   "cell_type": "code",
   "execution_count": 378,
   "metadata": {},
   "outputs": [],
   "source": [
    "L = 40\n",
    "x = np.linspace(1,190,L)\n",
    "dx = x[1]-x[0]"
   ]
  },
  {
   "cell_type": "code",
   "execution_count": 379,
   "metadata": {},
   "outputs": [],
   "source": [
    "X = np.sin(2*x/L)\n",
    "f1X = (2/L)*np.cos(2*x/L)\n",
    "f2X = -(4/(L**2))*np.sin(2*x/L)"
   ]
  },
  {
   "cell_type": "code",
   "execution_count": 380,
   "metadata": {},
   "outputs": [
    {
     "data": {
      "image/png": "[encoded data removed]",
      "text/plain": [
       "<Figure size 432x288 with 1 Axes>"
      ]
     },
     "metadata": {
      "needs_background": "light"
     },
     "output_type": "display_data"
    }
   ],
   "source": [
    "plt.plot(X,label='sin(2x/L)')\n",
    "plt.plot(f1X,label=\"f'(x)\")\n",
    "plt.plot(f2X,label=\"f''(x)\")\n",
    "plt.title(\"All Original Plots\")\n",
    "plt.legend()\n",
    "plt.show()"
   ]
  },
  {
   "cell_type": "markdown",
   "metadata": {},
   "source": [
    "### Approximate f'(x)"
   ]
  },
  {
   "cell_type": "markdown",
   "metadata": {},
   "source": [
    "Let's vary with accuracy order"
   ]
  },
  {
   "cell_type": "code",
   "execution_count": 381,
   "metadata": {},
   "outputs": [],
   "source": [
    "acc_order = [2,4,6,8,10]\n",
    "kernels = []\n",
    "X_padded = []\n",
    "f1X_approx = []\n",
    "for order in acc_order:\n",
    "    kernels.append(getKernel(1,order))\n",
    "    X_padded.append(padInput(X,1,order))\n",
    "    f1X_approx.append(np.correlate(X_padded[-1],kernels[-1])/dx)\n"
   ]
  },
  {
   "cell_type": "code",
   "execution_count": 382,
   "metadata": {},
   "outputs": [
    {
     "data": {
      "image/png": "[encoded data removed]",
      "text/plain": [
       "<Figure size 432x288 with 1 Axes>"
      ]
     },
     "metadata": {
      "needs_background": "light"
     },
     "output_type": "display_data"
    }
   ],
   "source": [
    "plt.plot(f1X,label=\"f1X_actual\")\n",
    "for i in range(len(acc_order)):\n",
    "    plt.plot(f1X_approx[i],label=\"f1x acc_order= \"+str(acc_order[i]))\n",
    "\n",
    "plt.title(\"F'(x) Plots\")\n",
    "plt.legend()\n",
    "plt.show()\n"
   ]
  },
  {
   "cell_type": "markdown",
   "metadata": {},
   "source": [
    "Visually it is a bit hard to see the difference, let's plot the mse vs accuracy order (from the actual derivative)"
   ]
  },
  {
   "cell_type": "code",
   "execution_count": 383,
   "metadata": {},
   "outputs": [
    {
     "data": {
      "image/png": "[encoded data removed]",
      "text/plain": [
       "<Figure size 432x288 with 1 Axes>"
      ]
     },
     "metadata": {
      "needs_background": "light"
     },
     "output_type": "display_data"
    }
   ],
   "source": [
    "mse = []\n",
    "for i in range(len(acc_order)):\n",
    "    mse.append(np.log(np.square(f1X - f1X_approx[i]).mean()))\n",
    "plt.plot(acc_order,mse)\n",
    "plt.title(\"MSE vs ACC Order\")\n",
    "plt.xlabel(\"Acc Order\")\n",
    "plt.ylabel(\"MSE\")\n",
    "plt.show()\n"
   ]
  },
  {
   "cell_type": "markdown",
   "metadata": {},
   "source": [
    "So we can see that the mse decreases as we increase the Accuracy order i.e we get closer to the actual derivative"
   ]
  },
  {
   "cell_type": "markdown",
   "metadata": {},
   "source": [
    "### Approximate f''(x)"
   ]
  },
  {
   "cell_type": "code",
   "execution_count": 384,
   "metadata": {},
   "outputs": [],
   "source": [
    "acc_order = [2,4,6,8,10]\n",
    "kernels = []\n",
    "X_padded = []\n",
    "f2X_approx = []\n",
    "for order in acc_order:\n",
    "    kernels.append(getKernel(2,order))\n",
    "    X_padded.append(padInput(X,2,order))\n",
    "    f2X_approx.append(np.correlate(X_padded[-1],kernels[-1])/(dx**2))\n"
   ]
  },
  {
   "cell_type": "code",
   "execution_count": 385,
   "metadata": {},
   "outputs": [
    {
     "data": {
      "image/png": "[encoded data removed]",
      "text/plain": [
       "<Figure size 432x288 with 1 Axes>"
      ]
     },
     "metadata": {
      "needs_background": "light"
     },
     "output_type": "display_data"
    }
   ],
   "source": [
    "plt.plot(f2X,label=\"f2X_actual\")\n",
    "for i in range(len(acc_order)):\n",
    "    plt.plot(f2X_approx[i],label=\"f2x acc_order= \"+str(acc_order[i]))\n",
    "\n",
    "plt.title(\"F''(x) Plots\")\n",
    "plt.legend()\n",
    "plt.show()\n"
   ]
  },
  {
   "cell_type": "code",
   "execution_count": 386,
   "metadata": {},
   "outputs": [
    {
     "data": {
      "image/png": "[encoded data removed]",
      "text/plain": [
       "<Figure size 432x288 with 1 Axes>"
      ]
     },
     "metadata": {
      "needs_background": "light"
     },
     "output_type": "display_data"
    }
   ],
   "source": [
    "mse = []\n",
    "for i in range(len(acc_order)):\n",
    "    mse.append(np.log(np.square(f2X - f2X_approx[i]).mean()))\n",
    "plt.plot(acc_order,mse)\n",
    "plt.title(\"MSE vs ACC Order\")\n",
    "plt.xlabel(\"Acc Order\")\n",
    "plt.ylabel(\"MSE\")\n",
    "plt.show()\n"
   ]
  },
  {
   "cell_type": "markdown",
   "metadata": {},
   "source": [
    "We can see the same trend for the double derivative"
   ]
  },
  {
   "cell_type": "markdown",
   "metadata": {},
   "source": [
    "**y = arctan(x)**"
   ]
  },
  {
   "cell_type": "code",
   "execution_count": 353,
   "metadata": {},
   "outputs": [],
   "source": [
    "L = 40\n",
    "x = np.linspace(-190,190,L)\n",
    "dx = x[1]-x[0]"
   ]
  },
  {
   "cell_type": "code",
   "execution_count": 361,
   "metadata": {},
   "outputs": [],
   "source": [
    "X = np.arctan(2*x/L)\n",
    "f1X = (2/L)*(1/(1+(2*x/L)**2))\n",
    "f2X = -4*(f1X**2)*(x/L)"
   ]
  },
  {
   "cell_type": "code",
   "execution_count": 362,
   "metadata": {},
   "outputs": [
    {
     "data": {
      "image/png": "[encoded data removed]",
      "text/plain": [
       "<Figure size 432x288 with 1 Axes>"
      ]
     },
     "metadata": {
      "needs_background": "light"
     },
     "output_type": "display_data"
    }
   ],
   "source": [
    "plt.plot(X,label='arctan(x)')\n",
    "plt.plot(f1X,label=\"f'(x)\")\n",
    "plt.plot(f2X,label=\"f''(x)\")\n",
    "plt.title(\"All Original Plots\")\n",
    "plt.legend()\n",
    "plt.show()"
   ]
  },
  {
   "cell_type": "markdown",
   "metadata": {},
   "source": [
    "### Approximate f'(x)"
   ]
  },
  {
   "cell_type": "code",
   "execution_count": 363,
   "metadata": {},
   "outputs": [],
   "source": [
    "acc_order = [2,4,6,8,10]\n",
    "kernels = []\n",
    "X_padded = []\n",
    "f1X_approx = []\n",
    "for order in acc_order:\n",
    "    kernels.append(getKernel(1,order))\n",
    "    X_padded.append(padInput(X,1,order))\n",
    "    f1X_approx.append(np.correlate(X_padded[-1],kernels[-1])/dx)\n"
   ]
  },
  {
   "cell_type": "code",
   "execution_count": 364,
   "metadata": {},
   "outputs": [
    {
     "data": {
      "image/png": "[encoded data removed]",
      "text/plain": [
       "<Figure size 432x288 with 1 Axes>"
      ]
     },
     "metadata": {
      "needs_background": "light"
     },
     "output_type": "display_data"
    }
   ],
   "source": [
    "plt.plot(f1X,label=\"f1X_actual\")\n",
    "for i in range(len(acc_order)):\n",
    "    plt.plot(f1X_approx[i],label=\"f1x acc_order= \"+str(acc_order[i]))\n",
    "\n",
    "plt.title(\"F'(x) Plots\")\n",
    "plt.legend()\n",
    "plt.show()\n"
   ]
  },
  {
   "cell_type": "markdown",
   "metadata": {},
   "source": [
    "we can see the higher accuracy order are closer to the actual derivative"
   ]
  },
  {
   "cell_type": "code",
   "execution_count": 365,
   "metadata": {},
   "outputs": [
    {
     "data": {
      "image/png": "[encoded data removed]",
      "text/plain": [
       "<Figure size 432x288 with 1 Axes>"
      ]
     },
     "metadata": {
      "needs_background": "light"
     },
     "output_type": "display_data"
    }
   ],
   "source": [
    "mse = []\n",
    "for i in range(len(acc_order)):\n",
    "    mse.append(np.log(np.square(f1X - f1X_approx[i]).mean()))\n",
    "plt.plot(acc_order,mse)\n",
    "plt.title(\"MSE vs ACC Order\")\n",
    "plt.xlabel(\"Acc Order\")\n",
    "plt.ylabel(\"MSE\")\n",
    "plt.show()\n"
   ]
  },
  {
   "cell_type": "markdown",
   "metadata": {},
   "source": [
    "### Approximate f''(x)"
   ]
  },
  {
   "cell_type": "code",
   "execution_count": 366,
   "metadata": {},
   "outputs": [],
   "source": [
    "acc_order = [2,4,6,8,10]\n",
    "kernels = []\n",
    "X_padded = []\n",
    "f2X_approx = []\n",
    "for order in acc_order:\n",
    "    kernels.append(getKernel(2,order))\n",
    "    X_padded.append(padInput(X,2,order))\n",
    "    f2X_approx.append(np.correlate(X_padded[-1],kernels[-1])/(dx**2))\n"
   ]
  },
  {
   "cell_type": "code",
   "execution_count": 367,
   "metadata": {},
   "outputs": [
    {
     "data": {
      "image/png": "[encoded data removed]",
      "text/plain": [
       "<Figure size 432x288 with 1 Axes>"
      ]
     },
     "metadata": {
      "needs_background": "light"
     },
     "output_type": "display_data"
    }
   ],
   "source": [
    "plt.plot(f2X,label=\"f2X_actual\")\n",
    "for i in range(len(acc_order)):\n",
    "    plt.plot(f2X_approx[i],label=\"f2x acc_order= \"+str(acc_order[i]))\n",
    "\n",
    "plt.title(\"F''(x) Plots\")\n",
    "plt.legend()\n",
    "plt.show()\n"
   ]
  },
  {
   "cell_type": "code",
   "execution_count": 368,
   "metadata": {},
   "outputs": [
    {
     "data": {
      "image/png": "[encoded data removed]",
      "text/plain": [
       "<Figure size 432x288 with 1 Axes>"
      ]
     },
     "metadata": {
      "needs_background": "light"
     },
     "output_type": "display_data"
    }
   ],
   "source": [
    "mse = []\n",
    "for i in range(len(acc_order)):\n",
    "    mse.append(np.log(np.square(f2X - f2X_approx[i]).mean()))\n",
    "plt.plot(acc_order,mse)\n",
    "plt.title(\"MSE vs ACC Order\")\n",
    "plt.xlabel(\"Acc Order\")\n",
    "plt.ylabel(\"MSE\")\n",
    "plt.show()\n"
   ]
  },
  {
   "cell_type": "markdown",
   "metadata": {},
   "source": [
    "### Torch/Batch Version"
   ]
  },
  {
   "cell_type": "code",
   "execution_count": 7,
   "metadata": {},
   "outputs": [],
   "source": [
    "def getKernelTorch(diff_order,acc_order=2,dim=None,scheme='central'):\n",
    "    \n",
    "    '''\n",
    "        returns a kernel of shape (1,1,dim) #so that it be convolved in pdeNet\n",
    "    '''\n",
    "    \n",
    "    def central(diff_order,acc_order,dim):\n",
    "        '''\n",
    "        output index order  .. xi-2 xi-1 xi xi+1 xi+2 ..\n",
    "        '''\n",
    "        #minium dim to be 3 it will return an error if the order and the dimension not matches.\n",
    "        n_eles = diff_order+acc_order-1\n",
    "        if dim==None:\n",
    "            dim = n_eles\n",
    "\n",
    "        if dim<n_eles:\n",
    "            raise(\"The dim should be >- than the diff+acc-1\")\n",
    "\n",
    "\n",
    "        kernel = np.zeros(dim)\n",
    "\n",
    "        B = np.zeros(n_eles)\n",
    "        B[diff_order] = 1\n",
    "        A = np.zeros((n_eles,n_eles))\n",
    "        #first row by 1\n",
    "        A[0] = np.ones(n_eles)\n",
    "\n",
    "        numerators = np.zeros(n_eles)\n",
    "        seq = np.arange(np.floor(n_eles/2))+1\n",
    "        numerators[:int(np.floor(n_eles/2))] = seq[::-1]\n",
    "        numerators[int(np.floor((n_eles-1)/2)+1):] = seq\n",
    "        #let's fill the value of this matrix row wise \n",
    "        for i in range(1,n_eles,1):\n",
    "            fact = np.math.factorial(i) \n",
    "            row = []\n",
    "            prefix = 1\n",
    "            for j in range(n_eles):\n",
    "                if j>np.floor((n_eles-1)/2):\n",
    "                    prefix = (-1)**i\n",
    "\n",
    "                row.append(prefix*(numerators[j]**i)/fact)\n",
    "            A[i] = row\n",
    "        soln = np.linalg.inv(A).dot(B)\n",
    "\n",
    "        soln = soln[::-1]\n",
    "        len_sol = len(soln)\n",
    "        if len_sol%2==0:\n",
    "            a,b = np.split(soln,2)\n",
    "            soln = np.zeros(len_sol+1)\n",
    "            soln[:int(len_sol/2)] = a\n",
    "            soln[int(len_sol/2)+1:] = b\n",
    "            len_sol += 1\n",
    "\n",
    "        kernel = np.pad(soln,int((dim-len_sol)/2))\n",
    "        return kernel  \n",
    "    \n",
    "    \n",
    "    def right(diff_order,acc_order,dim):\n",
    "        '''\n",
    "        output index order  xi xi+1 xi+2 .. ..\n",
    "        '''\n",
    "        n_eles = diff_order+acc_order\n",
    "        B = np.zeros(n_eles)\n",
    "        B[diff_order] = 1\n",
    "        A = np.zeros((n_eles,n_eles))\n",
    "\n",
    "        first_col = np.zeros(n_eles)\n",
    "        first_col[0] = 1\n",
    "        A[:,0] = first_col\n",
    "        A[0] = np.ones(n_eles)\n",
    "\n",
    "        for i in range(1,n_eles,1):\n",
    "            for j in range(1,n_eles):\n",
    "                A[i][j] = (j**i)/np.math.factorial(i) \n",
    "\n",
    "        kernel = np.linalg.inv(A).dot(B)\n",
    "        len_ker = len(kernel)\n",
    "        \n",
    "        return kernel\n",
    "    \n",
    "    def left(diff_order,acc_order,dim):\n",
    "        '''\n",
    "        output index order  xi-2 xi-i xi .. ..\n",
    "        '''\n",
    "        n_eles = diff_order+acc_order\n",
    "        B = np.zeros(n_eles)\n",
    "        B[diff_order] = 1\n",
    "\n",
    "        A = np.zeros((n_eles,n_eles))\n",
    "        A[0] = np.ones(n_eles)        \n",
    "        first_col = np.zeros(n_eles)\n",
    "        first_col[0] = 1\n",
    "        A[:,0] = first_col\n",
    "\n",
    "\n",
    "        for i in range(1,n_eles,1):\n",
    "            for j in range(1,n_eles):\n",
    "                A[i][j] = ((-j)**i)/np.math.factorial(i) \n",
    "\n",
    "        kernel = np.linalg.inv(A).dot(B)\n",
    "        return kernel[::-1]\n",
    "    \n",
    "    if scheme=='central':\n",
    "        return torch.from_numpy(np.array(central(diff_order,acc_order,dim))).reshape((1,1,-1)).float()\n",
    "    elif scheme=='left':\n",
    "        return torch.from_numpy(np.array(left(diff_order,acc_order,dim))).reshape((1,1,-1)).float()\n",
    "    elif scheme=='right':\n",
    "        return torch.from_numpy(np.array(right(diff_order,acc_order,dim))).reshape((1,1,-1)).float()"
   ]
  },
  {
   "cell_type": "code",
   "execution_count": 8,
   "metadata": {},
   "outputs": [],
   "source": [
    "def padInputTorch(X,diff_order,acc_order=2,dim=None):\n",
    "    '''\n",
    "        pads the reqruied amount in the start and the end takes the input (batch_size x n_channels(1) x X_dim\n",
    "        and returns (batch_size x n_channels(1) x X_dim+padded\n",
    "    '''\n",
    "    if dim is None:\n",
    "        dim = diff_order+acc_order-1\n",
    "    def padStart(X,diff_order,acc_order):\n",
    "        central_kernel = getKernelTorch(diff_order,acc_order,scheme='central')\n",
    "        right_kernel = getKernelTorch(diff_order,acc_order,scheme='right')\n",
    "        n_c = central_kernel.shape[-1]\n",
    "        n_r = right_kernel.shape[-1]\n",
    "        n_eles = diff_order+acc_order-1 #central kernel\n",
    "        n_pad = int(np.floor(n_eles/2))\n",
    "        index = int(np.floor(n_c/2))-1\n",
    "        for i in range(n_pad):\n",
    "            right_conv = F.conv1d(X[...,index:index+n_r],right_kernel)\n",
    "            central_conv = F.conv1d(X[...,0:n_c-1],central_kernel[...,1:])\n",
    "            x_prev = (right_conv-central_conv)*1.0/central_kernel[...,0]\n",
    "            X = torch.cat((x_prev,X),axis=-1)\n",
    "        return X\n",
    "\n",
    "    def padEnd(X,diff_order,acc_order):\n",
    "        central_kernel = getKernelTorch(diff_order,acc_order,scheme='central')\n",
    "        left_kernel = getKernelTorch(diff_order,acc_order,scheme='left')\n",
    "        n_c = central_kernel.shape[-1]\n",
    "        n_l = left_kernel.shape[-1]\n",
    "        n_eles = diff_order+acc_order-1 #central kernel\n",
    "        n_pad = int(np.floor(n_eles/2))\n",
    "        index = X.shape[-1] - (int(np.floor(n_c/2))-1)\n",
    "        \n",
    "        for i in range(n_pad):       \n",
    "            left_conv = F.conv1d(X[...,index-n_l:index],left_kernel)\n",
    "            central_conv = F.conv1d(X[...,-(n_c-1):],central_kernel[...,:-1])\n",
    "            x_next = (left_conv-central_conv)*1.0/central_kernel[...,-1]\n",
    "            X = torch.cat((X,x_next),axis=-1)\n",
    "            index += 1\n",
    "        return X\n",
    "    X = X.float()\n",
    "    X = padStart(X,diff_order,acc_order)\n",
    "    X = padEnd(X,diff_order,acc_order)\n",
    "    \n",
    "    actual_dim = diff_order+acc_order-1\n",
    "    if actual_dim%2 == 0:\n",
    "        actual_dim += 1\n",
    "    npad = (int((dim-actual_dim)/2),int((dim-actual_dim)/2))\n",
    "    X = F.pad(X,npad)\n",
    "\n",
    "    return X\n",
    "\n"
   ]
  },
  {
   "cell_type": "markdown",
   "metadata": {},
   "source": [
    "## Moment"
   ]
  },
  {
   "cell_type": "markdown",
   "metadata": {},
   "source": [
    "### Numpy versions"
   ]
  },
  {
   "cell_type": "code",
   "execution_count": 18,
   "metadata": {},
   "outputs": [],
   "source": [
    "def getP(dim):\n",
    "    ## return the matrix that we have to take dot with moment and kernel\n",
    "    P = np.zeros((dim,dim))\n",
    "    for i in range(dim):\n",
    "        P[i] = ((np.arange(dim)-(dim-1)//2)**i)/np.math.factorial(i)\n",
    "    invP = np.linalg.inv(P)\n",
    "    return P,invP"
   ]
  },
  {
   "cell_type": "code",
   "execution_count": 76,
   "metadata": {},
   "outputs": [],
   "source": [
    "\n",
    "def moment2Kernel(M,invP):\n",
    "    return np.dot(invP,M)\n",
    "\n",
    "def kernel2Moment(kernel,P):\n",
    "    return np.dot(P,kernel)\n"
   ]
  },
  {
   "cell_type": "markdown",
   "metadata": {},
   "source": [
    "**Testing for size 3**"
   ]
  },
  {
   "cell_type": "code",
   "execution_count": 81,
   "metadata": {},
   "outputs": [
    {
     "name": "stdout",
     "output_type": "stream",
     "text": [
      "[0. 1. 0.]\n",
      "[-0.5  0.   0.5]\n"
     ]
    }
   ],
   "source": [
    "k = getKernel(1)\n",
    "acutal_M = [0,1,0]\n",
    "P,invP = getP(dim=3)\n",
    "M_back = kernel2Moment(k,P)\n",
    "k_back = moment2Kernel(acutal_M,invP)\n",
    "print(M_back)\n",
    "print(k_back)\n"
   ]
  },
  {
   "cell_type": "markdown",
   "metadata": {},
   "source": [
    "**Testing with size 5**"
   ]
  },
  {
   "cell_type": "code",
   "execution_count": 88,
   "metadata": {},
   "outputs": [
    {
     "name": "stdout",
     "output_type": "stream",
     "text": [
      "[0.         1.         0.         0.16666667 0.        ]\n",
      "[-8.32667268e-17 -5.00000000e-01  7.40148683e-17  5.00000000e-01\n",
      "  2.77555756e-17]\n"
     ]
    }
   ],
   "source": [
    "k = getKernel(1,dim=5)\n",
    "P,invP = getP(dim=5)\n",
    "M_back = kernel2Moment(k,P)\n",
    "k_back = moment2Kernel(M_back,invP)\n",
    "print(M_back)\n",
    "print(k_back)"
   ]
  },
  {
   "cell_type": "code",
   "execution_count": null,
   "metadata": {},
   "outputs": [],
   "source": []
  },
  {
   "cell_type": "markdown",
   "metadata": {},
   "source": [
    "### Torch Versions"
   ]
  },
  {
   "cell_type": "markdown",
   "metadata": {},
   "source": [
    "#### Moment related"
   ]
  },
  {
   "cell_type": "code",
   "execution_count": 93,
   "metadata": {},
   "outputs": [],
   "source": [
    "class _MK(torch.nn.Module):\n",
    "    def __init__(self, dim):\n",
    "        '''\n",
    "        '''\n",
    "        super(_MK, self).__init__()\n",
    "        self._dim = dim\n",
    "        M = np.zeros((dim,dim))\n",
    "        for i in range(dim):\n",
    "            M[i] = ((np.arange(dim)-(dim-1)//2)**i)/np.math.factorial(i)\n",
    "        invM = np.linalg.inv(M)\n",
    "        self.register_buffer('_M', torch.from_numpy(M))\n",
    "        self.register_buffer('_invM', torch.from_numpy(invM))\n",
    "\n",
    "    @property\n",
    "    def M(self):\n",
    "        return self._buffers['_M']\n",
    "    @property\n",
    "    def invM(self):\n",
    "        return self._buffers['_invM']\n",
    "\n",
    "    \n",
    "    def dim(self):\n",
    "        return self._dim\n",
    "\n",
    "    def forward(self):\n",
    "        pass\n",
    "\n"
   ]
  },
  {
   "cell_type": "code",
   "execution_count": 149,
   "metadata": {},
   "outputs": [],
   "source": [
    "class M2K(_MK):\n",
    "    \"\"\"\n",
    "    convert moment matrix to convolution kernel\n",
    "    Arguments:\n",
    "        dim (int): kernel dim\n",
    "    \"\"\"\n",
    "    def __init__(self, dim):\n",
    "        super(M2K, self).__init__(dim)\n",
    "    def forward(self, m):\n",
    "        \"\"\"\n",
    "        m (Tensor): torch.size=(1,1,dim),\n",
    "        returns kernel of the same shape\n",
    "        \"\"\"\n",
    "        x = torch.tensordot(self.invM, m, dims=[[1],[-1]])\n",
    "        x = x.permute([2,1,0])\n",
    "        return x\n",
    "    \n",
    "    \n",
    "class K2M(_MK):\n",
    "    \"\"\"\n",
    "    convert convolution kernel to moment matrix\n",
    "    Arguments:\n",
    "        dim (int): kernel dim\n",
    "    \"\"\"\n",
    "    def __init__(self, shape):\n",
    "        super(K2M, self).__init__(shape)\n",
    "    def forward(self, k):\n",
    "        \"\"\"\n",
    "        k (Tensor): torch.size=(1,1,dim),\n",
    "        returns moment of the same shape\n",
    "        \"\"\"\n",
    "        x = torch.tensordot(self.M, k, dims=[[1],[-1]])\n",
    "        x = x.permute([2,1,0])\n",
    "        return x"
   ]
  },
  {
   "cell_type": "markdown",
   "metadata": {},
   "source": [
    "**Testing**"
   ]
  },
  {
   "cell_type": "code",
   "execution_count": 170,
   "metadata": {},
   "outputs": [],
   "source": [
    "obj = M2K(3)"
   ]
  },
  {
   "cell_type": "code",
   "execution_count": 171,
   "metadata": {},
   "outputs": [],
   "source": [
    "k = obj(torch.from_numpy(np.array([1.,0.,0])).reshape(1,1,-1))"
   ]
  },
  {
   "cell_type": "code",
   "execution_count": 172,
   "metadata": {},
   "outputs": [
    {
     "name": "stdout",
     "output_type": "stream",
     "text": [
      "tensor([[[0., 1., 0.]]], dtype=torch.float64)\n"
     ]
    }
   ],
   "source": [
    "print(k)"
   ]
  },
  {
   "cell_type": "code",
   "execution_count": 168,
   "metadata": {},
   "outputs": [],
   "source": [
    "obj = K2M(3)"
   ]
  },
  {
   "cell_type": "code",
   "execution_count": 169,
   "metadata": {},
   "outputs": [
    {
     "data": {
      "text/plain": [
       "array([ 0.08333333, -0.66666667,  0.        ,  0.66666667, -0.08333333])"
      ]
     },
     "execution_count": 169,
     "metadata": {},
     "output_type": "execute_result"
    }
   ],
   "source": [
    "getKernel(1,dim=5,acc_order=5)"
   ]
  },
  {
   "cell_type": "code",
   "execution_count": null,
   "metadata": {},
   "outputs": [],
   "source": []
  }
 ],
 "metadata": {
  "kernelspec": {
   "display_name": "Python 3",
   "language": "python",
   "name": "python3"
  },
  "language_info": {
   "codemirror_mode": {
    "name": "ipython",
    "version": 3
   },
   "file_extension": ".py",
   "mimetype": "text/x-python",
   "name": "python",
   "nbconvert_exporter": "python",
   "pygments_lexer": "ipython3",
   "version": "3.6.10"
  }
 },
 "nbformat": 4,
 "nbformat_minor": 2
}
