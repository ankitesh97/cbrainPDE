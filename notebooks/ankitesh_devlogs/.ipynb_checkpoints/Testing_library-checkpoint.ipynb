{
 "cells": [
  {
   "cell_type": "code",
   "execution_count": 7,
   "metadata": {},
   "outputs": [],
   "source": [
    "from backend.aTEAM.nn.functional import utils as ut\n",
    "import numpy as np"
   ]
  },
  {
   "cell_type": "markdown",
   "metadata": {},
   "source": [
    "default order is 2 with that you can get dimension of derivatve_order+1\n",
    "derivative_order+acc_order - 1 = n_eles (which should be >= dim )"
   ]
  },
  {
   "cell_type": "code",
   "execution_count": 8,
   "metadata": {},
   "outputs": [],
   "source": [
    "def getKernel(diff_order,acc_order=2,dim=None,scheme='central'):\n",
    "    '''\n",
    "    input: order of the derivative and the dimension (It will round it to next odd)\n",
    "    returns a kernel for a given order.\n",
    "    default accuracy order is 2\n",
    "    '''\n",
    "    #minium dim to be 3 it will return an error if the order and the dimension not matches.\n",
    "    n_eles = diff_order+acc_order-1\n",
    "    if dim==None:\n",
    "        dim = n_eles\n",
    "        \n",
    "    if dim<n_eles:\n",
    "        raise(\"The dim should be >- than the diff+acc-1\")\n",
    "\n",
    "\n",
    "    kernel = np.zeros(dim)\n",
    "    \n",
    "    B = np.zeros(n_eles)\n",
    "    B[diff_order] = 1\n",
    "    A = np.zeros((n_eles,n_eles))\n",
    "    #first row by 1\n",
    "    A[0] = np.ones(n_eles)\n",
    "\n",
    "    numerators = np.zeros(n_eles)\n",
    "    seq = np.arange(np.floor(n_eles/2))+1\n",
    "    numerators[:int(np.floor(n_eles/2))] = seq[::-1]\n",
    "    numerators[int(np.floor((n_eles-1)/2)+1):] = seq\n",
    "    #let's fill the value of this matrix row wise \n",
    "    for i in range(1,n_eles,1):\n",
    "        fact = np.math.factorial(i) \n",
    "        row = []\n",
    "        prefix = 1\n",
    "        for j in range(n_eles):\n",
    "            if j>np.floor((n_eles-1)/2):\n",
    "                prefix = (-1)**i\n",
    "                \n",
    "            row.append(prefix*(numerators[j]**i)/fact)\n",
    "        A[i] = row\n",
    "    soln = np.linalg.inv(A).dot(B)\n",
    "    \n",
    "    soln = soln[::-1]\n",
    "    print(soln)\n",
    "    len_sol = len(soln)\n",
    "    if len_sol%2==0:\n",
    "        a,b = np.split(soln,2)\n",
    "        soln = np.zeros(len_sol+1)\n",
    "        soln[:int(len_sol/2)] = a\n",
    "        soln[int(len_sol/2)+1:] = b\n",
    "        len_sol += 1\n",
    "#     kernel = np.pad(soln,int((dim-len_sol)/2))\n",
    "    return kernel"
   ]
  },
  {
   "cell_type": "code",
   "execution_count": 9,
   "metadata": {},
   "outputs": [
    {
     "name": "stdout",
     "output_type": "stream",
     "text": [
      "[-0.5  0.5]\n"
     ]
    },
    {
     "data": {
      "text/plain": [
       "array([0., 0.])"
      ]
     },
     "execution_count": 9,
     "metadata": {},
     "output_type": "execute_result"
    }
   ],
   "source": [
    "getKernel(diff_order = 1)"
   ]
  },
  {
   "cell_type": "code",
   "execution_count": null,
   "metadata": {},
   "outputs": [],
   "source": []
  }
 ],
 "metadata": {
  "kernelspec": {
   "display_name": "PDE-Net",
   "language": "python",
   "name": "pde-net"
  },
  "language_info": {
   "codemirror_mode": {
    "name": "ipython",
    "version": 3
   },
   "file_extension": ".py",
   "mimetype": "text/x-python",
   "name": "python",
   "nbconvert_exporter": "python",
   "pygments_lexer": "ipython3",
   "version": "3.6.10"
  }
 },
 "nbformat": 4,
 "nbformat_minor": 4
}
